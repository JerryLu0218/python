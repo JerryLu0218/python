{
 "cells": [
  {
   "cell_type": "code",
   "execution_count": null,
   "metadata": {},
   "outputs": [],
   "source": [
    "# 匯入套件\n",
    "import os\n",
    "\n",
    "# 檔案路徑\n",
    "file_list = os.listdir()\n",
    "\n",
    "print(file_list)\n",
    "\n",
    "# 如果指定路徑的檔案存在，則執行刪除\n",
    "if not os.path.exists(\"fruit.json\"):\n",
    "    os.mkdir(\"test_dir\")\n",
    "\n"
   ]
  }
 ],
 "metadata": {
  "language_info": {
   "name": "python"
  }
 },
 "nbformat": 4,
 "nbformat_minor": 2
}
