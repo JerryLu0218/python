{
 "cells": [
  {
   "cell_type": "markdown",
   "metadata": {},
   "source": [
    "### `json` 套件"
   ]
  },
  {
   "cell_type": "markdown",
   "metadata": {},
   "source": [
    "| 用法 | 說明 |\n",
    "|:--:|:--:|\n",
    "|`json.dump(<obj>,<file>, indent=num) `|物件轉JSON並寫入文件|\n",
    "|`json.dumps(<obj>)` |物件轉JSON字串|\n",
    "|`json.load(<file>)` |讀取JSON文件|\n",
    "|`json.loads(<str>)` |將JSON字串轉成Python物件|"
   ]
  },
  {
   "cell_type": "code",
   "execution_count": 6,
   "metadata": {},
   "outputs": [],
   "source": [
    "import json\n",
    "fruit_dict = {    \n",
    "    'apple': {\n",
    "        'price': 100,\n",
    "        'quantity': 50,\n",
    "        'color': ['greem', 'red']\n",
    "    },\n",
    "    'orange': {\n",
    "        'price': 50,\n",
    "        'quantity': 30,\n",
    "        # 'color': 'orange' # 錯誤的寫法\n",
    "        'color':[\"orange\"]\n",
    "    }\n",
    "}\n",
    "\n",
    "with open(\"fruit.json\", 'w', encoding=\"utf-8\") as f:\n",
    "    json.dump(fruit_dict, f, indent=4)"
   ]
  },
  {
   "cell_type": "code",
   "execution_count": 5,
   "metadata": {},
   "outputs": [],
   "source": [
    "with open(\"fruit2.json\", 'w', encoding=\"utf-8\") as f:\n",
    "    f.write(json.dumps(fruit_dict))\n",
    "    "
   ]
  }
 ],
 "metadata": {
  "kernelspec": {
   "display_name": "Python 3",
   "language": "python",
   "name": "python3"
  },
  "language_info": {
   "codemirror_mode": {
    "name": "ipython",
    "version": 3
   },
   "file_extension": ".py",
   "mimetype": "text/x-python",
   "name": "python",
   "nbconvert_exporter": "python",
   "pygments_lexer": "ipython3",
   "version": "3.13.0"
  }
 },
 "nbformat": 4,
 "nbformat_minor": 2
}
