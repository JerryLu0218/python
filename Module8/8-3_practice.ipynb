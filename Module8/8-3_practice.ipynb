{
 "cells": [
  {
   "cell_type": "markdown",
   "metadata": {},
   "source": [
    "##### 將 data.txt 的資料分類成另外三個檔案，分別為 cc.txt 、 css.txt 、 c.txt  "
   ]
  },
  {
   "cell_type": "code",
   "execution_count": null,
   "metadata": {},
   "outputs": [
    {
     "name": "stdout",
     "output_type": "stream",
     "text": [
      "['abc0182.cc\\n', 'abc0102.cc\\n', 'abc0281.cc\\n', 'abc0134.c\\n', 'abc0238.cc\\n', 'abc0244.c\\n', 'abc0157.css\\n', 'abc0116.c\\n', 'abc0245.cc\\n', 'abc0187.cc\\n', 'abc0202.c\\n', 'abc0285.cc\\n', 'abc0220.cc\\n', 'abc0174.css\\n', 'abc0140.c\\n', 'abc0176.c\\n', 'abc0174.css\\n', 'abc0244.css\\n', 'abc0289.css\\n', 'abc0175.c']\n",
      "<class 'list'>\n"
     ]
    }
   ],
   "source": [
    "import json\n",
    "\n",
    "with open (\"data.txt\", mode=\"r\", encoding=\"utf-8\") as f:\n",
    "    data_f = f.readlines()\n",
    "\n",
    "print(data_f)\n",
    "\n",
    "print(type(data_f))\n",
    "\n"
   ]
  },
  {
   "cell_type": "code",
   "execution_count": 44,
   "metadata": {},
   "outputs": [],
   "source": [
    "for i in data_f:\n",
    "    if '.css' in i:\n",
    "        with open(\"f.css\", mode=\"a\",encoding=\"utf-8\") as f1:\n",
    "            f1.write(i)\n",
    "    elif'.cc' in i:\n",
    "        with open(\"f.cc\", mode=\"a\",encoding=\"utf-8\") as f2:\n",
    "            f2.write(i)\n",
    "    else:\n",
    "        with open(\"f.c\", mode=\"a\",encoding=\"utf-8\") as f3:\n",
    "            f3.write(i)\n",
    "\n",
    "\n",
    "\n",
    "\n",
    "\n",
    "        "
   ]
  }
 ],
 "metadata": {
  "kernelspec": {
   "display_name": "Python 3",
   "language": "python",
   "name": "python3"
  },
  "language_info": {
   "codemirror_mode": {
    "name": "ipython",
    "version": 3
   },
   "file_extension": ".py",
   "mimetype": "text/x-python",
   "name": "python",
   "nbconvert_exporter": "python",
   "pygments_lexer": "ipython3",
   "version": "3.13.0"
  }
 },
 "nbformat": 4,
 "nbformat_minor": 2
}
