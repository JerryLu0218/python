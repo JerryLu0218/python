{
 "cells": [
  {
   "cell_type": "code",
   "execution_count": 2,
   "metadata": {},
   "outputs": [
    {
     "name": "stdout",
     "output_type": "stream",
     "text": [
      "Jerry\n",
      "Bill\n"
     ]
    }
   ],
   "source": [
    "# 全域變數\n",
    "name = \"Bill\"\n",
    "\n",
    "# 定義函式\n",
    "def get_name():\n",
    "    name = \"Jerry\"\n",
    "    return name\n",
    "\n",
    "# 執行函式\n",
    "print(get_name())\n",
    "\n",
    "# 輸出 name\n",
    "print(name)\n"
   ]
  },
  {
   "cell_type": "markdown",
   "metadata": {},
   "source": [
    "##### 使用 global 讓函式存取全域變數的值"
   ]
  },
  {
   "cell_type": "code",
   "execution_count": 3,
   "metadata": {},
   "outputs": [
    {
     "name": "stdout",
     "output_type": "stream",
     "text": [
      "Jerry\n",
      "Jerry\n"
     ]
    }
   ],
   "source": [
    "# 全域變數\n",
    "name = \"Bill\"\n",
    "\n",
    "# 定義函式\n",
    "def get_name():\n",
    "    global name\n",
    "    name = \"Jerry\"\n",
    "    return name\n",
    "\n",
    "# 執行函式\n",
    "print(get_name())\n",
    "\n",
    "# 輸出 name\n",
    "print(name)\n"
   ]
  },
  {
   "cell_type": "code",
   "execution_count": null,
   "metadata": {},
   "outputs": [],
   "source": [
    "\n",
    "name = \"Bill\"  # 全域變數\n",
    "\n",
    "def get_name():\n",
    "    name = \"Jerry\" #外部變數\n",
    "    \n",
    "    def get_name():\n",
    "        name = \"Amy\" #內部變數\n",
    "\n",
    "# 但上面說的都是以相對來說，如果今天沒有內部變數，那原本外部變數就會變成內部變數\n"
   ]
  }
 ],
 "metadata": {
  "kernelspec": {
   "display_name": "Python 3",
   "language": "python",
   "name": "python3"
  },
  "language_info": {
   "codemirror_mode": {
    "name": "ipython",
    "version": 3
   },
   "file_extension": ".py",
   "mimetype": "text/x-python",
   "name": "python",
   "nbconvert_exporter": "python",
   "pygments_lexer": "ipython3",
   "version": "3.13.0"
  }
 },
 "nbformat": 4,
 "nbformat_minor": 2
}
